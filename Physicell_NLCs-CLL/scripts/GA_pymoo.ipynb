{
 "cells": [
  {
   "cell_type": "markdown",
   "metadata": {},
   "source": [
    "### Genetic algorithm using Pymoo"
   ]
  },
  {
   "cell_type": "markdown",
   "metadata": {},
   "source": [
    "#### Problem"
   ]
  },
  {
   "cell_type": "code",
   "execution_count": 39,
   "metadata": {},
   "outputs": [],
   "source": [
    "from pymoo.core.problem import ElementwiseProblem, Problem\n",
    "\n",
    "### Vectorized problem\n",
    "class DeterministicProblem_P(Problem):\n",
    "    def __init__(self):\n",
    "        super().__init__(n_var=1, #Number of variables\n",
    "                         n_obj=1, #Number of objective functions\n",
    "                         n_ieq_constr=0, #Number of inequalities constraints\n",
    "                         n_eq_constr=0, #Number of equalities constraints\n",
    "                         xl=-5, #Lower threshold \n",
    "                         xu=5) #Upper threshold\n",
    "        \n",
    "    def _evaluate(self, x, out, *args, **kwargs):\n",
    "        out[\"F\"] = (x-3)**2\n",
    "\n",
    "problem_p = DeterministicProblem_P()\n",
    "\n",
    "\n",
    "### ElementwiseProblem\n",
    "class DeterministicProblem_EWP(ElementwiseProblem):\n",
    "    def __init__(self, elementwise=True, **kwargs):\n",
    "        super().__init__(n_var = 1, #Number of variables\n",
    "                         n_obj = 1, #Number of objective functions\n",
    "                         n_ieq_constr=0, #Number of inequalities constraints\n",
    "                         n_eq_constr=0, #Number of equalities constraints\n",
    "                         xl = -5, #Lower threshold \n",
    "                         xu = 5) #Upper threshold\n",
    "    \n",
    "    def _evaluate(self, x, out, *args, **kwargs):\n",
    "        out[\"F\"] = (x-3)**2\n",
    "        \n",
    "problem_ewp = DeterministicProblem_EWP()"
   ]
  },
  {
   "cell_type": "markdown",
   "metadata": {},
   "source": [
    "#### Algorithms"
   ]
  },
  {
   "cell_type": "markdown",
   "metadata": {},
   "source": [
    "##### Single objective functions"
   ]
  },
  {
   "cell_type": "code",
   "execution_count": 40,
   "metadata": {},
   "outputs": [],
   "source": [
    "from pymoo.algorithms.soo.nonconvex.de import DE\n",
    "from pymoo.algorithms.soo.nonconvex.ga import GA\n",
    "from pymoo.algorithms.soo.nonconvex.nelder import NelderMead\n",
    "from pymoo.optimize import minimize\n",
    "\n",
    "de_algo = DE(pop_size=50)\n",
    "ga_algo = GA(pop_size=50)\n",
    "nm_algo = NelderMead(init_simplex_scale=0.1)\n",
    "\n",
    "res = minimize(problem=problem_ewp,\n",
    "               algorithm=ga_algo,\n",
    "               seed =1,\n",
    "               verbose = False)\n",
    "\n",
    "X = res.X\n",
    "F = res.F"
   ]
  },
  {
   "cell_type": "markdown",
   "metadata": {},
   "source": [
    "##### Multi-objective functions"
   ]
  },
  {
   "cell_type": "code",
   "execution_count": 25,
   "metadata": {},
   "outputs": [],
   "source": [
    "import numpy as np\n",
    "\n",
    "class BNH(Problem):\n",
    "    def _init_(self):\n",
    "        super().__init__(n_var= 2,\n",
    "                         n_obj=2,\n",
    "                         n_ieq_constr=2,\n",
    "                         xl = np.array([0, 0]),\n",
    "                         xu = np.array([5,3]))\n",
    "        \n",
    "    def _evaluate(self, x, out, *args, **kwargs):\n",
    "\n",
    "        #Objective functions\n",
    "        obj1 = 4*(x[:,0]**2) + 4*(x[:,1]**2) #Objective function 1\n",
    "        obj2 = (x[:,0]-5)**2 + (x[:,1]-5)**2 #Objective function 2\n",
    "\n",
    "        #Constraints, default orientation of constraints being met is < 0\n",
    "        const1 = (x[:,0]-5)**2 + x[:,1]**2 - 25\n",
    "        const2 = 7.7 - (x[:,0]-8)**2 -(x[:,1]+3)**2\n",
    "\n",
    "        #Stacking objectives to \"F\" and constraints to \"G\"\n",
    "        out[\"F\"] = np.column_stack([obj1, obj2])\n",
    "        out[\"G\"] = np.column_stack([const1, const2])"
   ]
  },
  {
   "cell_type": "code",
   "execution_count": 26,
   "metadata": {},
   "outputs": [],
   "source": [
    "bnh_problem = BNH()"
   ]
  },
  {
   "cell_type": "code",
   "execution_count": 7,
   "metadata": {},
   "outputs": [
    {
     "name": "stdout",
     "output_type": "stream",
     "text": [
      "10\n"
     ]
    }
   ],
   "source": [
    "def sum(x1, x3):\n",
    "    n = x1 + x3\n",
    "    m = x1*x3\n",
    "\n",
    "    return n, m\n",
    "\n",
    "print(sum(2,5)[1])"
   ]
  },
  {
   "cell_type": "code",
   "execution_count": 29,
   "metadata": {},
   "outputs": [],
   "source": [
    "from pymoo.util.plotting import plot\n",
    "n_points = 50 \n",
    "\n",
    "x1 = np.linspace(0,5, n_points)\n",
    "x2 = np.linspace(0,3, n_points)\n",
    "\n",
    "X = np.column_stack([x1, x2])\n",
    "#plot(bnh_problem.evaluate(X, return_values_of=[\"F\"]))"
   ]
  },
  {
   "cell_type": "code",
   "execution_count": 2,
   "metadata": {},
   "outputs": [
    {
     "data": {
      "image/png": "[encoded data removed]",
      "text/plain": [
       "<Figure size 640x480 with 1 Axes>"
      ]
     },
     "metadata": {},
     "output_type": "display_data"
    }
   ],
   "source": [
    "import numpy as np\n",
    "from pymoo.core.problem import ElementwiseProblem, Problem\n",
    "\n",
    "class BNH(Problem):\n",
    "    def __init__(self):\n",
    "        super().__init__(n_var= 2,\n",
    "                         n_obj=2,\n",
    "                         n_ieq_constr=2,\n",
    "                         xl = np.array([0, 0]),\n",
    "                         xu = np.array([5,3]))\n",
    "        \n",
    "    def _evaluate(self, x, out, *args, **kwargs):\n",
    "\n",
    "        #Objective functions\n",
    "        obj1 = 4*(x[:,0]**2) + 4*(x[:,1]**2) #Objective function 1\n",
    "        obj2 = (x[:,0]-5)**2 + (x[:,1]-5)**2 #Objective function 2\n",
    "\n",
    "        #Constraints, default orientation of constraints being met is < 0\n",
    "        const1 = (x[:,0]-5)**2 + x[:,1]**2 - 25\n",
    "        const2 = 7.7 - (x[:,0]-8)**2 -(x[:,1]+3)**2\n",
    "\n",
    "        #Stacking objectives to \"F\" and constraints to \"G\"\n",
    "        out[\"F\"] = np.column_stack([obj1, obj2])\n",
    "        out[\"G\"] = np.column_stack([const1, const2])\n",
    "        \n",
    "\n",
    "bnh_problem = BNH()\n",
    "\n",
    "# Let's visualise the problem\n",
    "from pymoo.util.plotting import plot\n",
    "\n",
    "n_points = 50\n",
    "\n",
    "x1 = np.linspace(0, 5, n_points)\n",
    "x2 = np.linspace(0, 3, n_points)\n",
    "\n",
    "X = np.column_stack([x1, x2])\n",
    "plot(bnh_problem.evaluate(X, return_values_of=[\"F\"]))\n"
   ]
  },
  {
   "cell_type": "code",
   "execution_count": 4,
   "metadata": {},
   "outputs": [
    {
     "name": "stdout",
     "output_type": "stream",
     "text": [
      "==========================================================================================\n",
      "n_gen  |  n_eval  | n_nds  |     cv_min    |     cv_avg    |      eps      |   indicator  \n",
      "==========================================================================================\n",
      "     1 |      500 |    109 |  0.000000E+00 |  0.1780888416 |             - |             -\n",
      "     2 |     1000 |    173 |  0.000000E+00 |  0.000000E+00 |  0.0033072936 |             f\n",
      "     3 |     1500 |    244 |  0.000000E+00 |  0.000000E+00 |  0.0795962764 |         nadir\n",
      "     4 |     2000 |    352 |  0.000000E+00 |  0.000000E+00 |  0.0030563210 |         ideal\n",
      "     5 |     2500 |    454 |  0.000000E+00 |  0.000000E+00 |  0.0226629360 |         nadir\n",
      "     6 |     3000 |    500 |  0.000000E+00 |  0.000000E+00 |  0.0049150501 |         nadir\n",
      "     7 |     3500 |    500 |  0.000000E+00 |  0.000000E+00 |  0.0393080937 |         nadir\n",
      "     8 |     4000 |    500 |  0.000000E+00 |  0.000000E+00 |  0.0003795086 |             f\n",
      "     9 |     4500 |    500 |  0.000000E+00 |  0.000000E+00 |  0.0278947071 |         nadir\n",
      "    10 |     5000 |    500 |  0.000000E+00 |  0.000000E+00 |  0.0002990507 |             f\n",
      "    11 |     5500 |    500 |  0.000000E+00 |  0.000000E+00 |  0.0361590872 |         nadir\n",
      "    12 |     6000 |    500 |  0.000000E+00 |  0.000000E+00 |  0.0002876966 |             f\n",
      "    13 |     6500 |    500 |  0.000000E+00 |  0.000000E+00 |  0.0047193266 |         nadir\n",
      "    14 |     7000 |    500 |  0.000000E+00 |  0.000000E+00 |  0.0073090736 |         nadir\n",
      "    15 |     7500 |    500 |  0.000000E+00 |  0.000000E+00 |  0.0002316561 |             f\n",
      "    16 |     8000 |    500 |  0.000000E+00 |  0.000000E+00 |  0.0046297113 |         nadir\n",
      "    17 |     8500 |    500 |  0.000000E+00 |  0.000000E+00 |  0.0002477687 |             f\n",
      "    18 |     9000 |    500 |  0.000000E+00 |  0.000000E+00 |  0.0004594093 |             f\n",
      "    19 |     9500 |    500 |  0.000000E+00 |  0.000000E+00 |  0.0005666217 |             f\n",
      "    20 |    10000 |    500 |  0.000000E+00 |  0.000000E+00 |  0.0006377442 |             f\n",
      "    21 |    10500 |    500 |  0.000000E+00 |  0.000000E+00 |  0.0031655740 |         nadir\n",
      "    22 |    11000 |    500 |  0.000000E+00 |  0.000000E+00 |  0.0002280324 |             f\n",
      "    23 |    11500 |    500 |  0.000000E+00 |  0.000000E+00 |  0.0004357430 |             f\n",
      "    24 |    12000 |    500 |  0.000000E+00 |  0.000000E+00 |  0.0005918470 |             f\n",
      "    25 |    12500 |    500 |  0.000000E+00 |  0.000000E+00 |  0.0006672920 |             f\n",
      "    26 |    13000 |    500 |  0.000000E+00 |  0.000000E+00 |  0.0007358298 |             f\n",
      "    27 |    13500 |    500 |  0.000000E+00 |  0.000000E+00 |  0.0007954562 |             f\n",
      "    28 |    14000 |    500 |  0.000000E+00 |  0.000000E+00 |  0.0008361126 |             f\n",
      "    29 |    14500 |    500 |  0.000000E+00 |  0.000000E+00 |  0.0008785684 |             f\n",
      "    30 |    15000 |    500 |  0.000000E+00 |  0.000000E+00 |  0.0008682190 |             f\n",
      "    31 |    15500 |    500 |  0.000000E+00 |  0.000000E+00 |  0.0008995408 |             f\n",
      "    32 |    16000 |    500 |  0.000000E+00 |  0.000000E+00 |  0.0009285486 |             f\n",
      "    33 |    16500 |    500 |  0.000000E+00 |  0.000000E+00 |  0.0009235998 |             f\n",
      "    34 |    17000 |    500 |  0.000000E+00 |  0.000000E+00 |  0.0009275993 |             f\n",
      "    35 |    17500 |    500 |  0.000000E+00 |  0.000000E+00 |  0.0009193323 |             f\n",
      "    36 |    18000 |    500 |  0.000000E+00 |  0.000000E+00 |  0.0009326672 |             f\n",
      "    37 |    18500 |    500 |  0.000000E+00 |  0.000000E+00 |  0.0009757409 |             f\n",
      "    38 |    19000 |    500 |  0.000000E+00 |  0.000000E+00 |  0.0010055751 |             f\n",
      "    39 |    19500 |    500 |  0.000000E+00 |  0.000000E+00 |  0.0010389921 |             f\n",
      "    40 |    20000 |    500 |  0.000000E+00 |  0.000000E+00 |  0.0010406089 |             f\n",
      "    41 |    20500 |    500 |  0.000000E+00 |  0.000000E+00 |  0.0010250230 |             f\n",
      "    42 |    21000 |    500 |  0.000000E+00 |  0.000000E+00 |  0.0010505821 |             f\n",
      "    43 |    21500 |    500 |  0.000000E+00 |  0.000000E+00 |  0.0010514481 |             f\n",
      "    44 |    22000 |    500 |  0.000000E+00 |  0.000000E+00 |  0.0010525391 |             f\n",
      "    45 |    22500 |    500 |  0.000000E+00 |  0.000000E+00 |  0.0010261733 |             f\n",
      "    46 |    23000 |    500 |  0.000000E+00 |  0.000000E+00 |  0.0010320705 |             f\n",
      "    47 |    23500 |    500 |  0.000000E+00 |  0.000000E+00 |  0.0010031473 |             f\n",
      "    48 |    24000 |    500 |  0.000000E+00 |  0.000000E+00 |  0.0010077741 |             f\n",
      "    49 |    24500 |    500 |  0.000000E+00 |  0.000000E+00 |  0.0009902110 |             f\n",
      "    50 |    25000 |    500 |  0.000000E+00 |  0.000000E+00 |  0.0009873382 |             f\n",
      "    51 |    25500 |    500 |  0.000000E+00 |  0.000000E+00 |  0.0010059453 |             f\n",
      "    52 |    26000 |    500 |  0.000000E+00 |  0.000000E+00 |  0.0010061137 |             f\n",
      "    53 |    26500 |    500 |  0.000000E+00 |  0.000000E+00 |  0.0010059549 |             f\n",
      "    54 |    27000 |    500 |  0.000000E+00 |  0.000000E+00 |  0.0010179341 |             f\n",
      "    55 |    27500 |    500 |  0.000000E+00 |  0.000000E+00 |  0.0010046666 |             f\n",
      "    56 |    28000 |    500 |  0.000000E+00 |  0.000000E+00 |  0.0010438461 |             f\n",
      "    57 |    28500 |    500 |  0.000000E+00 |  0.000000E+00 |  0.0010394065 |             f\n",
      "    58 |    29000 |    500 |  0.000000E+00 |  0.000000E+00 |  0.0010052186 |             f\n",
      "    59 |    29500 |    500 |  0.000000E+00 |  0.000000E+00 |  0.0010062700 |             f\n",
      "    60 |    30000 |    500 |  0.000000E+00 |  0.000000E+00 |  0.0009992576 |             f\n",
      "    61 |    30500 |    500 |  0.000000E+00 |  0.000000E+00 |  0.0009978437 |             f\n",
      "    62 |    31000 |    500 |  0.000000E+00 |  0.000000E+00 |  0.0010124855 |             f\n",
      "    63 |    31500 |    500 |  0.000000E+00 |  0.000000E+00 |  0.0009923407 |             f\n",
      "    64 |    32000 |    500 |  0.000000E+00 |  0.000000E+00 |  0.0010139771 |             f\n",
      "    65 |    32500 |    500 |  0.000000E+00 |  0.000000E+00 |  0.0010085375 |             f\n",
      "    66 |    33000 |    500 |  0.000000E+00 |  0.000000E+00 |  0.0009877311 |             f\n",
      "    67 |    33500 |    500 |  0.000000E+00 |  0.000000E+00 |  0.0010093499 |             f\n",
      "    68 |    34000 |    500 |  0.000000E+00 |  0.000000E+00 |  0.0010021815 |             f\n",
      "    69 |    34500 |    500 |  0.000000E+00 |  0.000000E+00 |  0.0009977893 |             f\n"
     ]
    }
   ],
   "source": [
    "from pymoo.algorithms.moo.nsga2 import NSGA2\n",
    "from pymoo.optimize import minimize\n",
    "\n",
    "algorithm = NSGA2(pop_size = 500)\n",
    "\n",
    "res = minimize(problem = bnh_problem,\n",
    "               algorithm = algorithm,\n",
    "               seed=1,\n",
    "               verbose=True)\n",
    "\n"
   ]
  },
  {
   "cell_type": "code",
   "execution_count": 6,
   "metadata": {},
   "outputs": [],
   "source": [
    "X = res.X\n",
    "F = res.F\n",
    "\n",
    "np.savetxt('Space_values.csv', X, delimiter=\",\")\n",
    "np.savetxt('Objective_values.csv', F, delimiter=\",\")"
   ]
  },
  {
   "cell_type": "code",
   "execution_count": 38,
   "metadata": {},
   "outputs": [],
   "source": [
    "from pymoo.algorithms.soo.nonconvex.ga import GA\n",
    "from pymoo.problems import get_problem\n",
    "from pymoo.optimize import minimize\n",
    "\n",
    "\n",
    "problem = get_problem(\"sphere\")\n",
    "algorithm = GA(pop_size=5)\n",
    "res = minimize(problem,\n",
    "               algorithm,\n",
    "               ('n_gen', 30),\n",
    "               seed=1)\n",
    "\n",
    "\n",
    "X = res.X\n",
    "F = res.F"
   ]
  },
  {
   "cell_type": "code",
   "execution_count": 3,
   "metadata": {},
   "outputs": [
    {
     "data": {
      "text/plain": [
       "<pymoo.visualization.scatter.Scatter at 0x7fcef7a67280>"
      ]
     },
     "execution_count": 3,
     "metadata": {},
     "output_type": "execute_result"
    },
    {
     "data": {
      "image/png": "[encoded data removed]",
      "text/plain": [
       "<Figure size 800x600 with 1 Axes>"
      ]
     },
     "metadata": {},
     "output_type": "display_data"
    }
   ],
   "source": [
    "from pymoo.algorithms.moo.nsga2 import NSGA2\n",
    "from pymoo.problems import get_problem\n",
    "from pymoo.optimize import minimize\n",
    "from pymoo.visualization.scatter import Scatter\n",
    "\n",
    "problem = get_problem(\"zdt1\")\n",
    "\n",
    "algorithm = NSGA2(pop_size=100)\n",
    "\n",
    "res = minimize(problem,\n",
    "               algorithm,\n",
    "               ('n_gen', 200),\n",
    "               seed=1,\n",
    "               verbose=False)\n",
    "\n",
    "plot = Scatter()\n",
    "plot.add(problem.pareto_front(), plot_type=\"line\", color=\"black\", alpha=0.7)\n",
    "plot.add(res.F, facecolor=\"none\", edgecolor=\"red\")\n",
    "plot.show()"
   ]
  },
  {
   "cell_type": "code",
   "execution_count": 18,
   "metadata": {},
   "outputs": [],
   "source": [
    "from pymoo.core.problem import Problem\n",
    "import math\n",
    "import xml.etree.ElementTree as ET\n",
    "import subprocess\n",
    "import pandas as pd\n",
    "import sys\n",
    "import numpy as np\n",
    "import os\n",
    "import random\n",
    "from multiprocessing import Pool\n",
    "\n",
    "viability = np.loadtxt('../data_output/viability.csv', delimiter=\",\", skiprows=1)\n",
    "concentration = np.loadtxt('../data_output/concentration.csv', delimiter=\",\", skiprows=1)\n",
    "experimental = np.loadtxt('../../Netlogo_NLCs-CLL/filtered_fused_9patients.csv', delimiter=\",\", skiprows=1)\n",
    "viability_exp = experimental[:,1]\n",
    "concentration_exp = experimental[:,2]\n",
    "N = 13\n",
    "\n",
    "\n",
    "\n",
    "obj1 = np.sqrt(np.sum((viability - viability_exp)**2) / N) #RMSE of viability\n",
    "obj2 = np.sqrt(np.sum((concentration - concentration_exp)**2) / N) #RMSE of concentration\n",
    "\n",
    "class calibrationProb(Problem):\n",
    "    def __init__(self):\n",
    "        super().__init__(n_var = 10,\n",
    "                       n_obj = 2,\n",
    "                       xl = np.array([0.9, 0.9, 4e-5, 0.9, 24e-2, 0.9, 91e-2, 0.9, 0.9, 3e-2]),\n",
    "                       xu = np.array([1.2, 1.2, 6e-5, 1.2, 26e-2, 1.2, 93e-2, 1.2, 1.2, 5e-2]))\n",
    "        \n",
    "    def _evaluate(self, x, out):\n",
    "        #Objective functions\n",
    "        obj1 = np.sqrt(np.sum((viability - viability_exp)**2) / N) #RMSE of viability\n",
    "        obj2 = np.sqrt(np.sum((concentration - concentration_exp)**2) / N) #RMSE of concentration\n",
    "\n",
    "        #Stacking objectives to \"F\" \n",
    "        out[\"F\"] = np.column_stack([obj1, obj2])\n",
    "\n",
    "NLC_problem = calibrationProb()\n",
    "\n",
    "test = []\n",
    "test.append(obj2)"
   ]
  },
  {
   "cell_type": "code",
   "execution_count": 27,
   "metadata": {},
   "outputs": [],
   "source": [
    "res = np.column_stack([test, test2])"
   ]
  },
  {
   "cell_type": "code",
   "execution_count": 16,
   "metadata": {},
   "outputs": [
    {
     "ename": "IndexError",
     "evalue": "tuple index out of range",
     "output_type": "error",
     "traceback": [
      "\u001b[0;31m---------------------------------------------------------------------------\u001b[0m",
      "\u001b[0;31mIndexError\u001b[0m                                Traceback (most recent call last)",
      "Cell \u001b[0;32mIn[16], line 39\u001b[0m\n\u001b[1;32m     36\u001b[0m \u001b[38;5;28;01mfrom\u001b[39;00m \u001b[38;5;21;01mpymoo\u001b[39;00m\u001b[38;5;21;01m.\u001b[39;00m\u001b[38;5;21;01mtermination\u001b[39;00m \u001b[38;5;28;01mimport\u001b[39;00m get_termination\n\u001b[1;32m     37\u001b[0m termination \u001b[38;5;241m=\u001b[39m get_termination(\u001b[38;5;124m\"\u001b[39m\u001b[38;5;124mn_gen\u001b[39m\u001b[38;5;124m\"\u001b[39m, \u001b[38;5;241m1000\u001b[39m)\n\u001b[0;32m---> 39\u001b[0m res \u001b[38;5;241m=\u001b[39m \u001b[43mminimize\u001b[49m\u001b[43m(\u001b[49m\u001b[43mNLC_problem\u001b[49m\u001b[43m,\u001b[49m\n\u001b[1;32m     40\u001b[0m \u001b[43m               \u001b[49m\u001b[43malgorithm_nsga\u001b[49m\u001b[43m,\u001b[49m\n\u001b[1;32m     41\u001b[0m \u001b[43m               \u001b[49m\u001b[43mtermination\u001b[49m\u001b[43m,\u001b[49m\n\u001b[1;32m     42\u001b[0m \u001b[43m               \u001b[49m\u001b[43mseed\u001b[49m\u001b[38;5;241;43m=\u001b[39;49m\u001b[38;5;241;43m1\u001b[39;49m\u001b[43m,\u001b[49m\n\u001b[1;32m     43\u001b[0m \u001b[43m               \u001b[49m\u001b[43mverbose\u001b[49m\u001b[38;5;241;43m=\u001b[39;49m\u001b[38;5;28;43;01mTrue\u001b[39;49;00m\u001b[43m)\u001b[49m\n\u001b[1;32m     45\u001b[0m \u001b[38;5;28mprint\u001b[39m(res\u001b[38;5;241m.\u001b[39mX)\n\u001b[1;32m     46\u001b[0m \u001b[38;5;28mprint\u001b[39m(res\u001b[38;5;241m.\u001b[39mF)\n",
      "File \u001b[0;32m~/mambaforge/lib/python3.10/site-packages/pymoo/optimize.py:67\u001b[0m, in \u001b[0;36mminimize\u001b[0;34m(problem, algorithm, termination, copy_algorithm, copy_termination, **kwargs)\u001b[0m\n\u001b[1;32m     64\u001b[0m     algorithm\u001b[38;5;241m.\u001b[39msetup(problem, \u001b[38;5;241m*\u001b[39m\u001b[38;5;241m*\u001b[39mkwargs)\n\u001b[1;32m     66\u001b[0m \u001b[38;5;66;03m# actually execute the algorithm\u001b[39;00m\n\u001b[0;32m---> 67\u001b[0m res \u001b[38;5;241m=\u001b[39m \u001b[43malgorithm\u001b[49m\u001b[38;5;241;43m.\u001b[39;49m\u001b[43mrun\u001b[49m\u001b[43m(\u001b[49m\u001b[43m)\u001b[49m\n\u001b[1;32m     69\u001b[0m \u001b[38;5;66;03m# store the deep copied algorithm in the result object\u001b[39;00m\n\u001b[1;32m     70\u001b[0m res\u001b[38;5;241m.\u001b[39malgorithm \u001b[38;5;241m=\u001b[39m algorithm\n",
      "File \u001b[0;32m~/mambaforge/lib/python3.10/site-packages/pymoo/core/algorithm.py:138\u001b[0m, in \u001b[0;36mAlgorithm.run\u001b[0;34m(self)\u001b[0m\n\u001b[1;32m    136\u001b[0m \u001b[38;5;28;01mdef\u001b[39;00m \u001b[38;5;21mrun\u001b[39m(\u001b[38;5;28mself\u001b[39m):\n\u001b[1;32m    137\u001b[0m     \u001b[38;5;28;01mwhile\u001b[39;00m \u001b[38;5;28mself\u001b[39m\u001b[38;5;241m.\u001b[39mhas_next():\n\u001b[0;32m--> 138\u001b[0m         \u001b[38;5;28;43mself\u001b[39;49m\u001b[38;5;241;43m.\u001b[39;49m\u001b[43mnext\u001b[49m\u001b[43m(\u001b[49m\u001b[43m)\u001b[49m\n\u001b[1;32m    139\u001b[0m     \u001b[38;5;28;01mreturn\u001b[39;00m \u001b[38;5;28mself\u001b[39m\u001b[38;5;241m.\u001b[39mresult()\n",
      "File \u001b[0;32m~/mambaforge/lib/python3.10/site-packages/pymoo/core/algorithm.py:158\u001b[0m, in \u001b[0;36mAlgorithm.next\u001b[0;34m(self)\u001b[0m\n\u001b[1;32m    156\u001b[0m \u001b[38;5;66;03m# call the advance with them after evaluation\u001b[39;00m\n\u001b[1;32m    157\u001b[0m \u001b[38;5;28;01mif\u001b[39;00m infills \u001b[38;5;129;01mis\u001b[39;00m \u001b[38;5;129;01mnot\u001b[39;00m \u001b[38;5;28;01mNone\u001b[39;00m:\n\u001b[0;32m--> 158\u001b[0m     \u001b[38;5;28;43mself\u001b[39;49m\u001b[38;5;241;43m.\u001b[39;49m\u001b[43mevaluator\u001b[49m\u001b[38;5;241;43m.\u001b[39;49m\u001b[43meval\u001b[49m\u001b[43m(\u001b[49m\u001b[38;5;28;43mself\u001b[39;49m\u001b[38;5;241;43m.\u001b[39;49m\u001b[43mproblem\u001b[49m\u001b[43m,\u001b[49m\u001b[43m \u001b[49m\u001b[43minfills\u001b[49m\u001b[43m,\u001b[49m\u001b[43m \u001b[49m\u001b[43malgorithm\u001b[49m\u001b[38;5;241;43m=\u001b[39;49m\u001b[38;5;28;43mself\u001b[39;49m\u001b[43m)\u001b[49m\n\u001b[1;32m    159\u001b[0m     \u001b[38;5;28mself\u001b[39m\u001b[38;5;241m.\u001b[39madvance(infills\u001b[38;5;241m=\u001b[39minfills)\n\u001b[1;32m    161\u001b[0m \u001b[38;5;66;03m# if the algorithm does not follow the infill-advance scheme just call advance\u001b[39;00m\n\u001b[1;32m    162\u001b[0m \u001b[38;5;28;01melse\u001b[39;00m:\n",
      "File \u001b[0;32m~/mambaforge/lib/python3.10/site-packages/pymoo/core/evaluator.py:69\u001b[0m, in \u001b[0;36mEvaluator.eval\u001b[0;34m(self, problem, pop, skip_already_evaluated, evaluate_values_of, count_evals, **kwargs)\u001b[0m\n\u001b[1;32m     65\u001b[0m \u001b[38;5;66;03m# evaluate the solutions (if there are any)\u001b[39;00m\n\u001b[1;32m     66\u001b[0m \u001b[38;5;28;01mif\u001b[39;00m \u001b[38;5;28mlen\u001b[39m(I) \u001b[38;5;241m>\u001b[39m \u001b[38;5;241m0\u001b[39m:\n\u001b[1;32m     67\u001b[0m \n\u001b[1;32m     68\u001b[0m     \u001b[38;5;66;03m# do the actual evaluation - call the sub-function to set the corresponding values to the population\u001b[39;00m\n\u001b[0;32m---> 69\u001b[0m     \u001b[38;5;28;43mself\u001b[39;49m\u001b[38;5;241;43m.\u001b[39;49m\u001b[43m_eval\u001b[49m\u001b[43m(\u001b[49m\u001b[43mproblem\u001b[49m\u001b[43m,\u001b[49m\u001b[43m \u001b[49m\u001b[43mpop\u001b[49m\u001b[43m[\u001b[49m\u001b[43mI\u001b[49m\u001b[43m]\u001b[49m\u001b[43m,\u001b[49m\u001b[43m \u001b[49m\u001b[43mevaluate_values_of\u001b[49m\u001b[43m,\u001b[49m\u001b[43m \u001b[49m\u001b[38;5;241;43m*\u001b[39;49m\u001b[38;5;241;43m*\u001b[39;49m\u001b[43mkwargs\u001b[49m\u001b[43m)\u001b[49m\n\u001b[1;32m     71\u001b[0m \u001b[38;5;66;03m# update the function evaluation counter\u001b[39;00m\n\u001b[1;32m     72\u001b[0m \u001b[38;5;28;01mif\u001b[39;00m count_evals:\n",
      "File \u001b[0;32m~/mambaforge/lib/python3.10/site-packages/pymoo/core/evaluator.py:90\u001b[0m, in \u001b[0;36mEvaluator._eval\u001b[0;34m(self, problem, pop, evaluate_values_of, **kwargs)\u001b[0m\n\u001b[1;32m     87\u001b[0m X \u001b[38;5;241m=\u001b[39m pop\u001b[38;5;241m.\u001b[39mget(\u001b[38;5;124m\"\u001b[39m\u001b[38;5;124mX\u001b[39m\u001b[38;5;124m\"\u001b[39m)\n\u001b[1;32m     89\u001b[0m \u001b[38;5;66;03m# call the problem to evaluate the solutions\u001b[39;00m\n\u001b[0;32m---> 90\u001b[0m out \u001b[38;5;241m=\u001b[39m \u001b[43mproblem\u001b[49m\u001b[38;5;241;43m.\u001b[39;49m\u001b[43mevaluate\u001b[49m\u001b[43m(\u001b[49m\u001b[43mX\u001b[49m\u001b[43m,\u001b[49m\u001b[43m \u001b[49m\u001b[43mreturn_values_of\u001b[49m\u001b[38;5;241;43m=\u001b[39;49m\u001b[43mevaluate_values_of\u001b[49m\u001b[43m,\u001b[49m\u001b[43m \u001b[49m\u001b[43mreturn_as_dictionary\u001b[49m\u001b[38;5;241;43m=\u001b[39;49m\u001b[38;5;28;43;01mTrue\u001b[39;49;00m\u001b[43m,\u001b[49m\u001b[43m \u001b[49m\u001b[38;5;241;43m*\u001b[39;49m\u001b[38;5;241;43m*\u001b[39;49m\u001b[43mkwargs\u001b[49m\u001b[43m)\u001b[49m\n\u001b[1;32m     92\u001b[0m \u001b[38;5;66;03m# for each of the attributes set it to the problem\u001b[39;00m\n\u001b[1;32m     93\u001b[0m \u001b[38;5;28;01mfor\u001b[39;00m key, val \u001b[38;5;129;01min\u001b[39;00m out\u001b[38;5;241m.\u001b[39mitems():\n",
      "File \u001b[0;32m~/mambaforge/lib/python3.10/site-packages/pymoo/core/problem.py:257\u001b[0m, in \u001b[0;36mProblem.evaluate\u001b[0;34m(self, X, return_values_of, return_as_dictionary, *args, **kwargs)\u001b[0m\n\u001b[1;32m    254\u001b[0m     only_single_value \u001b[38;5;241m=\u001b[39m \u001b[38;5;129;01mnot\u001b[39;00m (\u001b[38;5;28misinstance\u001b[39m(X, \u001b[38;5;28mlist\u001b[39m) \u001b[38;5;129;01mor\u001b[39;00m \u001b[38;5;28misinstance\u001b[39m(X, np\u001b[38;5;241m.\u001b[39mndarray))\n\u001b[1;32m    256\u001b[0m \u001b[38;5;66;03m# this is where the actual evaluation takes place\u001b[39;00m\n\u001b[0;32m--> 257\u001b[0m _out \u001b[38;5;241m=\u001b[39m \u001b[38;5;28;43mself\u001b[39;49m\u001b[38;5;241;43m.\u001b[39;49m\u001b[43mdo\u001b[49m\u001b[43m(\u001b[49m\u001b[43mX\u001b[49m\u001b[43m,\u001b[49m\u001b[43m \u001b[49m\u001b[43mreturn_values_of\u001b[49m\u001b[43m,\u001b[49m\u001b[43m \u001b[49m\u001b[38;5;241;43m*\u001b[39;49m\u001b[43margs\u001b[49m\u001b[43m,\u001b[49m\u001b[43m \u001b[49m\u001b[38;5;241;43m*\u001b[39;49m\u001b[38;5;241;43m*\u001b[39;49m\u001b[43mkwargs\u001b[49m\u001b[43m)\u001b[49m\n\u001b[1;32m    259\u001b[0m out \u001b[38;5;241m=\u001b[39m {}\n\u001b[1;32m    260\u001b[0m \u001b[38;5;28;01mfor\u001b[39;00m k, v \u001b[38;5;129;01min\u001b[39;00m _out\u001b[38;5;241m.\u001b[39mitems():\n\u001b[1;32m    261\u001b[0m \n\u001b[1;32m    262\u001b[0m     \u001b[38;5;66;03m# copy it to a numpy array (it might be one of jax at this point)\u001b[39;00m\n",
      "File \u001b[0;32m~/mambaforge/lib/python3.10/site-packages/pymoo/core/problem.py:299\u001b[0m, in \u001b[0;36mProblem.do\u001b[0;34m(self, X, return_values_of, *args, **kwargs)\u001b[0m\n\u001b[1;32m    297\u001b[0m     \u001b[38;5;28mself\u001b[39m\u001b[38;5;241m.\u001b[39m_evaluate_elementwise(X, out, \u001b[38;5;241m*\u001b[39margs, \u001b[38;5;241m*\u001b[39m\u001b[38;5;241m*\u001b[39mkwargs)\n\u001b[1;32m    298\u001b[0m \u001b[38;5;28;01melse\u001b[39;00m:\n\u001b[0;32m--> 299\u001b[0m     \u001b[38;5;28;43mself\u001b[39;49m\u001b[38;5;241;43m.\u001b[39;49m\u001b[43m_evaluate_vectorized\u001b[49m\u001b[43m(\u001b[49m\u001b[43mX\u001b[49m\u001b[43m,\u001b[49m\u001b[43m \u001b[49m\u001b[43mout\u001b[49m\u001b[43m,\u001b[49m\u001b[43m \u001b[49m\u001b[38;5;241;43m*\u001b[39;49m\u001b[43margs\u001b[49m\u001b[43m,\u001b[49m\u001b[43m \u001b[49m\u001b[38;5;241;43m*\u001b[39;49m\u001b[38;5;241;43m*\u001b[39;49m\u001b[43mkwargs\u001b[49m\u001b[43m)\u001b[49m\n\u001b[1;32m    301\u001b[0m \u001b[38;5;66;03m# finally format the output dictionary\u001b[39;00m\n\u001b[1;32m    302\u001b[0m out \u001b[38;5;241m=\u001b[39m \u001b[38;5;28mself\u001b[39m\u001b[38;5;241m.\u001b[39m_format_dict(out, \u001b[38;5;28mlen\u001b[39m(X), return_values_of)\n",
      "File \u001b[0;32m~/mambaforge/lib/python3.10/site-packages/pymoo/core/problem.py:307\u001b[0m, in \u001b[0;36mProblem._evaluate_vectorized\u001b[0;34m(self, X, out, *args, **kwargs)\u001b[0m\n\u001b[1;32m    306\u001b[0m \u001b[38;5;28;01mdef\u001b[39;00m \u001b[38;5;21m_evaluate_vectorized\u001b[39m(\u001b[38;5;28mself\u001b[39m, X, out, \u001b[38;5;241m*\u001b[39margs, \u001b[38;5;241m*\u001b[39m\u001b[38;5;241m*\u001b[39mkwargs):\n\u001b[0;32m--> 307\u001b[0m     \u001b[38;5;28;43mself\u001b[39;49m\u001b[38;5;241;43m.\u001b[39;49m\u001b[43m_evaluate\u001b[49m\u001b[43m(\u001b[49m\u001b[43mX\u001b[49m\u001b[43m,\u001b[49m\u001b[43m \u001b[49m\u001b[43mout\u001b[49m\u001b[43m,\u001b[49m\u001b[43m \u001b[49m\u001b[38;5;241;43m*\u001b[39;49m\u001b[43margs\u001b[49m\u001b[43m,\u001b[49m\u001b[43m \u001b[49m\u001b[38;5;241;43m*\u001b[39;49m\u001b[38;5;241;43m*\u001b[39;49m\u001b[43mkwargs\u001b[49m\u001b[43m)\u001b[49m\n",
      "Cell \u001b[0;32mIn[16], line 24\u001b[0m, in \u001b[0;36mcalibrationProb._evaluate\u001b[0;34m(self, x, out)\u001b[0m\n\u001b[1;32m     21\u001b[0m \u001b[38;5;28;01mdef\u001b[39;00m \u001b[38;5;21m_evaluate\u001b[39m(\u001b[38;5;28mself\u001b[39m, x, out):\n\u001b[1;32m     22\u001b[0m     \u001b[38;5;66;03m#Objective functions\u001b[39;00m\n\u001b[1;32m     23\u001b[0m     obj1 \u001b[38;5;241m=\u001b[39m np\u001b[38;5;241m.\u001b[39msqrt(np\u001b[38;5;241m.\u001b[39msum((equation(x[:,\u001b[38;5;241m0\u001b[39m], x[:,\u001b[38;5;241m1\u001b[39m], x[:,\u001b[38;5;241m2\u001b[39m])[\u001b[38;5;241m1\u001b[39m] \u001b[38;5;241m-\u001b[39m viability_exp)\u001b[38;5;241m*\u001b[39m\u001b[38;5;241m*\u001b[39m\u001b[38;5;241m2\u001b[39m) \u001b[38;5;241m/\u001b[39m N) \u001b[38;5;66;03m#RMSE of viability\u001b[39;00m\n\u001b[0;32m---> 24\u001b[0m     obj2 \u001b[38;5;241m=\u001b[39m np\u001b[38;5;241m.\u001b[39msqrt(np\u001b[38;5;241m.\u001b[39msum((\u001b[43mequation\u001b[49m\u001b[43m(\u001b[49m\u001b[43mx\u001b[49m\u001b[43m[\u001b[49m\u001b[43m:\u001b[49m\u001b[43m,\u001b[49m\u001b[38;5;241;43m0\u001b[39;49m\u001b[43m]\u001b[49m\u001b[43m,\u001b[49m\u001b[43m \u001b[49m\u001b[43mx\u001b[49m\u001b[43m[\u001b[49m\u001b[43m:\u001b[49m\u001b[43m,\u001b[49m\u001b[38;5;241;43m1\u001b[39;49m\u001b[43m]\u001b[49m\u001b[43m,\u001b[49m\u001b[43m \u001b[49m\u001b[43mx\u001b[49m\u001b[43m[\u001b[49m\u001b[43m:\u001b[49m\u001b[43m,\u001b[49m\u001b[38;5;241;43m2\u001b[39;49m\u001b[43m]\u001b[49m\u001b[43m)\u001b[49m\u001b[43m[\u001b[49m\u001b[38;5;241;43m2\u001b[39;49m\u001b[43m]\u001b[49m \u001b[38;5;241m-\u001b[39m concentration_exp)\u001b[38;5;241m*\u001b[39m\u001b[38;5;241m*\u001b[39m\u001b[38;5;241m2\u001b[39m) \u001b[38;5;241m/\u001b[39m N) \u001b[38;5;66;03m#RMSE of concentration\u001b[39;00m\n\u001b[1;32m     26\u001b[0m     \u001b[38;5;66;03m#Stacking objectives to \"F\" \u001b[39;00m\n\u001b[1;32m     27\u001b[0m     out[\u001b[38;5;124m\"\u001b[39m\u001b[38;5;124mF\u001b[39m\u001b[38;5;124m\"\u001b[39m] \u001b[38;5;241m=\u001b[39m np\u001b[38;5;241m.\u001b[39mcolumn_stack([obj1, obj2])\n",
      "\u001b[0;31mIndexError\u001b[0m: tuple index out of range"
     ]
    }
   ],
   "source": [
    "from pymoo.core.problem import Problem\n",
    "\n",
    "experimental = np.loadtxt('../../Netlogo_NLCs-CLL/filtered_fused_9patients.csv', delimiter=\",\", skiprows=1)\n",
    "viability_exp = experimental[1,1]\n",
    "concentration_exp = experimental[2,2]\n",
    "N = 13\n",
    "\n",
    "def equation(x1, x2, x3):\n",
    "    suma = x1 + x2 + x3\n",
    "    resta = x1 - x2 +  x3\n",
    "\n",
    "    return suma, resta\n",
    "\n",
    "class calibrationProb(Problem):\n",
    "    def __init__(self):\n",
    "        super().__init__(n_var = 3,\n",
    "                       n_obj = 2,\n",
    "                       xl = np.array([0, 0, 0]),\n",
    "                       xu = np.array([10, 30, 20]))\n",
    "        \n",
    "    def _evaluate(self, x, out):\n",
    "        #Objective functions\n",
    "        obj1 = np.sqrt(np.sum((equation(x[:,0], x[:,1], x[:,2])[1] - viability_exp)**2) / N) #RMSE of viability\n",
    "        obj2 = np.sqrt(np.sum((equation(x[:,0], x[:,1], x[:,2])[2] - concentration_exp)**2) / N) #RMSE of concentration\n",
    "\n",
    "        #Stacking objectives to \"F\" \n",
    "        out[\"F\"] = np.column_stack([obj1, obj2])\n",
    "\n",
    "NLC_problem = calibrationProb()\n",
    "\n",
    "from pymoo.algorithms.moo.nsga2 import NSGA2\n",
    "from pymoo.optimize import minimize\n",
    "\n",
    "algorithm_nsga = NSGA2(pop_size=500)\n",
    "\n",
    "from pymoo.termination import get_termination\n",
    "termination = get_termination(\"n_gen\", 1000)\n",
    "\n",
    "res = minimize(NLC_problem,\n",
    "               algorithm_nsga,\n",
    "               termination,\n",
    "               seed=1,\n",
    "               verbose=True)\n",
    "\n",
    "print(res.X)\n",
    "print(res.F)\n",
    "\n",
    "\n"
   ]
  },
  {
   "cell_type": "code",
   "execution_count": 7,
   "metadata": {},
   "outputs": [],
   "source": [
    "from pymoo.core.problem import Problem\n",
    "from multiprocessing.pool import ThreadPool\n",
    "from pymoo.algorithms.soo.nonconvex.ga import GA\n",
    "\n",
    "pool = ThreadPool(8)\n",
    "\n",
    "class MyProblem(Problem):\n",
    "\n",
    "    def __init__(self, **kwargs):\n",
    "        super().__init__(n_var=10, n_obj=1, n_ieq_constr=0, xl=-5, xu=5, **kwargs)\n",
    "\n",
    "    def _evaluate(self, X, out, *args, **kwargs):\n",
    "\n",
    "        # define the function\n",
    "        def my_eval(x):\n",
    "            return (x ** 2).sum()\n",
    "\n",
    "        # prepare the parameters for the pool\n",
    "        params = [[X[k]] for k in range(len(X))]\n",
    "        test = params\n",
    "\n",
    "        # calculate the function values in a parallelized manner and wait until done\n",
    "        F = pool.starmap(my_eval, params)\n",
    "\n",
    "        # store the function values and return them.\n",
    "        out[\"F\"] = np.array(F)\n",
    "\n",
    "problem = MyProblem()"
   ]
  },
  {
   "cell_type": "code",
   "execution_count": 9,
   "metadata": {},
   "outputs": [
    {
     "name": "stdout",
     "output_type": "stream",
     "text": [
      "Threads: 1.2155568599700928\n"
     ]
    }
   ],
   "source": [
    "res = minimize(problem, GA(), termination=(\"n_gen\", 200), seed=1)\n",
    "print('Threads:', res.exec_time)\n",
    "pool.close()"
   ]
  },
  {
   "cell_type": "code",
   "execution_count": 27,
   "metadata": {},
   "outputs": [
    {
     "name": "stdout",
     "output_type": "stream",
     "text": [
      "0.0007012387024832867\n"
     ]
    }
   ],
   "source": [
    "y = [tuple(X[i]) for i in range(200)]\n",
    "z = y[1]\n",
    "#[((\"./config/NLC_CLL.xml\", 3) + tuple(x[i])) for i in range(pop_size)]\n",
    "print(z[0])"
   ]
  },
  {
   "cell_type": "code",
   "execution_count": 51,
   "metadata": {},
   "outputs": [
    {
     "name": "stdout",
     "output_type": "stream",
     "text": [
      "uptake_rate\n",
      "0\n",
      "speed\n",
      "1\n",
      "transformation_rate\n",
      "2\n",
      "speed\n",
      "3\n",
      "dead_phagocytosis_rate\n",
      "4\n",
      "speed\n",
      "5\n",
      "dead_phagocytosis_rate\n",
      "6\n",
      "secretion_rate\n",
      "7\n",
      "speed\n",
      "8\n",
      "dead_phagocytosis_rate\n",
      "9\n"
     ]
    }
   ],
   "source": [
    "param_behaviors = {'cancer':{'uptake_rate': 0, 'speed': 1, 'transformation_rate': 2},\n",
    "                   'monocytes':{'speed': 3, 'dead_phagocytosis_rate': 4},\n",
    "                   'macrophages':{'speed': 5, 'dead_phagocytosis_rate': 6},\n",
    "                   'NLCs': {'secretion_rate': 7, 'speed': 8, 'dead_phagocytosis_rate': 9}}\n",
    "    \n",
    "for i, celltype in enumerate(param_behaviors.keys()):\n",
    "    for param, column in param_behaviors[celltype].items():\n",
    "        print(param)\n",
    "        print(column)"
   ]
  },
  {
   "cell_type": "code",
   "execution_count": null,
   "metadata": {},
   "outputs": [],
   "source": [
    "def model_simulation(input_file_path, replicates, param1, param2, param3, param4, param5, param6, param7, param8, param9, param10):                \n",
    "    #Load xml file\n",
    "    tree = ET.parse(input_file_path)\n",
    "    root = tree.getroot()\n",
    "    #Inputs\n",
    "    inputs = np.column_stack([param1, param2, param3, param4, param5, param6, param7, param8, param9, param10])\n",
    "\n",
    "    param_behaviors = {'cancer':{'uptake_rate': 0, 'speed': 1, 'transformation_rate': 2},\n",
    "                    'monocytes':{'speed': 3, 'dead_phagocytosis_rate': 4},\n",
    "                    'macrophages':{'speed': 5, 'dead_phagocytosis_rate': 6},\n",
    "                    'NLCs': {'secretion_rate': 7, 'speed': 8, 'dead_phagocytosis_rate': 9}}\n",
    "    \n",
    "    for i, values in enumerate(inputs):\n",
    "        for celltype, celltype_param in param_behaviors.items(): #param_name = parameter name and lhs_col_index = column number\n",
    "            for param, column in celltype_param.items():\n",
    "                if(celltype == 'cancer' and param == 'uptake_rate'):\n",
    "                    param_value = values[column] #Extract each value [i, lhs_col_index]\n",
    "                    param_element = root.find(f\".//*[@name='{celltype}']//*[@name='anti-apoptotic factor']//{param}\") #Find the param name in XML file\n",
    "                    param_element.text = str(param_value)\n",
    "                elif(celltype == 'cancer' and param == 'transformation_rate'):\n",
    "                    param_value = values[column] #Extract each value [i, lhs_col_index]\n",
    "                    param_element = root.find(f\".//*[@name='{celltype}']//{param}/[@name='apoptotic']\") #Find the param name in XML file\n",
    "                    param_element.text = str(param_value)\n",
    "                elif(celltype == 'NLCs' and param == 'secretion_rate'):\n",
    "                    param_value = values[column] #Extract each value [i, lhs_col_index]\n",
    "                    param_element = root.find(f\".//*[@name='{celltype}']//*[@name='anti-apoptotic factor']//{param}\") #Find the param name in XML file\n",
    "                    param_element.text = str(param_value)\n",
    "                else:\n",
    "                    param_value = values[column] #Extract each value [i, lhs_col_index]\n",
    "                    param_element = root.find(f\".//*[@name='{celltype}']//{param}\") #Find the param name in XML file\n",
    "                    param_element.text = str(param_value)\n",
    "\n",
    "        # Define the command to call your C++ software with the updated XML as input\n",
    "        command = [\"./project\", \"./config/NLC_CLL.xml\"]\n",
    "            \n",
    "        for i in range(replicates): #replicates is for bootstrapping, we run the simulation with updated value # (replicates) times\n",
    "            # Random seed for each simulation\n",
    "            param_element = root.find(\".//random_seed\") #Find the random seed in XML file\n",
    "            param_element.text = str(random.randint(0,4294967295))\n",
    "\n",
    "            # Write the updated XML to a string\n",
    "            updated_xml_str = ET.tostring(root, encoding=\"unicode\", method=\"xml\")\n",
    "            stdin_str = updated_xml_str\n",
    "\n",
    "            # Call the C++ software using subprocess\n",
    "            proc = subprocess.Popen(command, stdin=subprocess.PIPE, stdout=subprocess.PIPE, stderr=subprocess.PIPE)\n",
    "            stdout, stderr = proc.communicate(stdin_str.encode())\n",
    "\n",
    "            # Check that the Physicell ran successfully\n",
    "            if proc.returncode != 0:\n",
    "                print(\"Error running Physicell\")\n",
    "                print(stderr.decode())\n",
    "                continue\n",
    "\n",
    "            subprocess.run([\"python\", \"scripts/collect_data.py\"]) #We collect the data at each iteration\n",
    "\n",
    "        subprocess.run([\"python\", \"scripts/merge_data.py\"]) #Merge data of replicates \n",
    "\n",
    "    viability = np.loadtxt('data_output/viability.csv', delimiter=\",\", skiprows=1)\n",
    "    concentration = np.loadtxt('data_output/concentration.csv', delimiter=\",\", skiprows=1)\n",
    "\n",
    "    return viability, concentration"
   ]
  }
 ],
 "metadata": {
  "kernelspec": {
   "display_name": "Python 3",
   "language": "python",
   "name": "python3"
  },
  "language_info": {
   "codemirror_mode": {
    "name": "ipython",
    "version": 3
   },
   "file_extension": ".py",
   "mimetype": "text/x-python",
   "name": "python",
   "nbconvert_exporter": "python",
   "pygments_lexer": "ipython3",
   "version": "3.10.12"
  }
 },
 "nbformat": 4,
 "nbformat_minor": 2
}
